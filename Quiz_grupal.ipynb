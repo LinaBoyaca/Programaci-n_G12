{
  "nbformat": 4,
  "nbformat_minor": 0,
  "metadata": {
    "colab": {
      "provenance": [],
      "include_colab_link": true
    },
    "kernelspec": {
      "name": "python3",
      "display_name": "Python 3"
    },
    "language_info": {
      "name": "python"
    }
  },
  "cells": [
    {
      "cell_type": "markdown",
      "metadata": {
        "id": "view-in-github",
        "colab_type": "text"
      },
      "source": [
        "<a href=\"https://colab.research.google.com/github/LinaBoyaca/Programacion_G12/blob/master/Quiz_grupal.ipynb\" target=\"_parent\"><img src=\"https://colab.research.google.com/assets/colab-badge.svg\" alt=\"Open In Colab\"/></a>"
      ]
    },
    {
      "cell_type": "code",
      "execution_count": null,
      "metadata": {
        "id": "jF-iyJVKx6Kh"
      },
      "outputs": [],
      "source": []
    },
    {
      "cell_type": "markdown",
      "source": [
        "Usando la función requests,\n",
        "\n",
        "Escribe distintas funciones python para tratar el fichero https://fp.josedomingo.org/lmgs/u05/ej2.json  sobre pruebas de nivel de idiomas y obtenga la siguiente información:\n",
        "\n",
        "¿Cuántas pruebas de idiomas están descritas en el documento?\n",
        "\n",
        "Devuelve el título de las pruebas de nivel que van a durar más de dos horas.\n",
        "\n",
        "De las pruebas de tipo “No Presencial” devuelve la URL de información.\n",
        "\n",
        "Recibe el código de la prueba “ID” y muestra su título y profesores.\n",
        "\n",
        "Crear un archivo “.json” con la información: \n",
        "Título y sus profesores. \n",
        "\n",
        "Luego validar el texto en https://jsonlint.com/, agregar imagen validada al archivo.ipynb y subir al repositorio grupal."
      ],
      "metadata": {
        "id": "mmjvccCfx-O2"
      }
    },
    {
      "cell_type": "code",
      "source": [
        "import json\n",
        "import requests\n",
        "from pprint import pprint \n",
        "\n",
        "response=requests.get(\"https://fp.josedomingo.org/lmgs/u05/ej2.json\")\n",
        "pendientes=json.loads(response.text)\n",
        "pprint(pendientes)"
      ],
      "metadata": {
        "id": "IEVlvnNQyLNh",
        "colab": {
          "base_uri": "https://localhost:8080/"
        },
        "outputId": "95e6868d-f75a-4131-d8b4-670396659bf4"
      },
      "execution_count": null,
      "outputs": [
        {
          "output_type": "stream",
          "name": "stdout",
          "text": [
            "[{'$id': '1',\n",
            "  'Categoria': 'Zona Metropolitana',\n",
            "  'ECTS': None,\n",
            "  'FinImparticion': '2015-02-06T00:00:00',\n",
            "  'Horario': None,\n",
            "  'Horas': 2,\n",
            "  'ID': 'A15050163',\n",
            "  'InicioImparticion': '2015-01-09T00:00:00',\n",
            "  'MCER': None,\n",
            "  'Nivel': 'Prueba de nivel - Para cursos segundo cuatrimestre',\n",
            "  'Profesorado': [{'$id': '2', 'NombreCompleto': 'Reinhard Dlugay'}],\n",
            "  'TipoFormacion': 'NoPresencial',\n",
            "  'Titulo': 'Alemán - Prueba de nivel - Para cursos segundo cuatrimestre',\n",
            "  'URL': 'https://sede.fg.ull.es/es/idioma/detalle/A15050163/aleman-prueba-de-nivel-para-cursos-segundo-cuatrimestre'},\n",
            " {'$id': '3',\n",
            "  'Categoria': 'Zona Metropolitana',\n",
            "  'ECTS': None,\n",
            "  'FinImparticion': '2015-02-05T00:00:00',\n",
            "  'Horario': None,\n",
            "  'Horas': 2,\n",
            "  'ID': 'A15050167',\n",
            "  'InicioImparticion': '2015-01-09T00:00:00',\n",
            "  'MCER': None,\n",
            "  'Nivel': 'Prueba de nivel - Para cursos segundo cuatrimestre',\n",
            "  'Profesorado': [{'$id': '4', 'NombreCompleto': 'Beatriz Hernández Bravo'}],\n",
            "  'TipoFormacion': 'No Presencial',\n",
            "  'Titulo': 'Español - Prueba de nivel - Para cursos segundo cuatrimestre',\n",
            "  'URL': 'https://sede.fg.ull.es/es/idioma/detalle/A15050167/espa-ol-prueba-de-nivel-para-cursos-segundo-cuatrimestre'},\n",
            " {'$id': '5',\n",
            "  'Categoria': 'Zona Metropolitana',\n",
            "  'ECTS': None,\n",
            "  'FinImparticion': '2015-02-05T00:00:00',\n",
            "  'Horario': None,\n",
            "  'Horas': 1,\n",
            "  'ID': 'A15050162',\n",
            "  'InicioImparticion': '2015-01-07T00:00:00',\n",
            "  'MCER': None,\n",
            "  'Nivel': 'Prueba de nivel - Para cursos segundo cuatrimestre',\n",
            "  'Profesorado': [{'$id': '6', 'NombreCompleto': 'Marie-Morgane Le Folgoc'}],\n",
            "  'TipoFormacion': 'Presencial',\n",
            "  'Titulo': 'Francés - Prueba de nivel - Para cursos segundo cuatrimestre',\n",
            "  'URL': 'https://sede.fg.ull.es/es/idioma/detalle/A15050162/frances-prueba-de-nivel-para-cursos-segundo-cuatrimestre'},\n",
            " {'$id': '7',\n",
            "  'Categoria': 'Zona Metropolitana',\n",
            "  'ECTS': None,\n",
            "  'FinImparticion': '2015-03-03T00:00:00',\n",
            "  'Horario': None,\n",
            "  'Horas': 4,\n",
            "  'ID': 'A15050182',\n",
            "  'InicioImparticion': '2015-02-10T00:00:00',\n",
            "  'MCER': None,\n",
            "  'Nivel': 'Prueba de nivel - para cursos de Inglés para la Docencia y '\n",
            "           'preparatorio de GESE Trinity',\n",
            "  'Profesorado': [{'$id': '8', 'NombreCompleto': 'María Luisa Capón Mouriz'}],\n",
            "  'TipoFormacion': 'Presencial',\n",
            "  'Titulo': 'Inglés - Prueba de nivel - para cursos de Inglés para la Docencia '\n",
            "            'y preparatorio de GESE Trinity',\n",
            "  'URL': 'https://sede.fg.ull.es/es/idioma/detalle/A15050182/ingles-prueba-de-nivel-para-cursos-de-ingles-para-la-docencia-y-preparatorio-de-gese-trinity'},\n",
            " {'$id': '9',\n",
            "  'Categoria': 'Zona Metropolitana',\n",
            "  'ECTS': None,\n",
            "  'FinImparticion': '2015-02-12T00:00:00',\n",
            "  'Horario': None,\n",
            "  'Horas': 3,\n",
            "  'ID': 'A15050007',\n",
            "  'InicioImparticion': '2015-01-09T00:00:00',\n",
            "  'MCER': None,\n",
            "  'Nivel': 'Prueba de nivel - Para cursos segundo cuatrimestre',\n",
            "  'Profesorado': [{'$id': '10', 'NombreCompleto': 'María Luisa Capón Mouriz'},\n",
            "                  {'$id': '11', 'NombreCompleto': 'Richard James Murison'},\n",
            "                  {'$id': '12',\n",
            "                   'NombreCompleto': 'María Isabel Rodríguez Rodríguez'},\n",
            "                  {'$id': '13', 'NombreCompleto': 'Beatriz Freire Betancor'},\n",
            "                  {'$id': '14',\n",
            "                   'NombreCompleto': 'Peggy Gerd Henriksson Carlsson'},\n",
            "                  {'$id': '15',\n",
            "                   'NombreCompleto': 'Eva Miriam Amaral Ribeiro Sampaio de '\n",
            "                                     'Andrade'},\n",
            "                  {'$id': '16', 'NombreCompleto': 'Marta María González Orta'}],\n",
            "  'TipoFormacion': 'Presencial',\n",
            "  'Titulo': 'Inglés - Prueba de nivel - Para cursos segundo cuatrimestre',\n",
            "  'URL': 'https://sede.fg.ull.es/es/idioma/detalle/A15050007/ingles-prueba-de-nivel-para-cursos-segundo-cuatrimestre'},\n",
            " {'$id': '17',\n",
            "  'Categoria': 'Zona Metropolitana',\n",
            "  'ECTS': None,\n",
            "  'FinImparticion': '2015-02-04T00:00:00',\n",
            "  'Horario': None,\n",
            "  'Horas': 1,\n",
            "  'ID': 'A15050166',\n",
            "  'InicioImparticion': '2015-01-12T00:00:00',\n",
            "  'MCER': None,\n",
            "  'Nivel': 'Prueba de nivel - Para preparatorios del FCE/CAE/CPE/IELTS',\n",
            "  'Profesorado': [{'$id': '18', 'NombreCompleto': 'Clive Tyrell'}],\n",
            "  'TipoFormacion': 'Presencial',\n",
            "  'Titulo': 'Inglés - Prueba de nivel - Para preparatorios del '\n",
            "            'FCE/CAE/CPE/IELTS',\n",
            "  'URL': 'https://sede.fg.ull.es/es/idioma/detalle/A15050166/ingles-prueba-de-nivel-para-preparatorios-del-fce-cae-cpe-ielts'},\n",
            " {'$id': '19',\n",
            "  'Categoria': 'Zona Metropolitana',\n",
            "  'ECTS': None,\n",
            "  'FinImparticion': '2015-02-09T00:00:00',\n",
            "  'Horario': None,\n",
            "  'Horas': 2,\n",
            "  'ID': 'A15050164',\n",
            "  'InicioImparticion': '2015-01-12T00:00:00',\n",
            "  'MCER': None,\n",
            "  'Nivel': 'Prueba de nivel - Para cursos segundo cuatrimestre',\n",
            "  'Profesorado': [{'$id': '20', 'NombreCompleto': 'Nicola Cataldo'}],\n",
            "  'TipoFormacion': 'Presencial',\n",
            "  'Titulo': 'Italiano - Prueba de nivel - Para cursos segundo cuatrimestre',\n",
            "  'URL': 'https://sede.fg.ull.es/es/idioma/detalle/A15050164/italiano-prueba-de-nivel-para-cursos-segundo-cuatrimestre'}]\n"
          ]
        }
      ]
    },
    {
      "cell_type": "code",
      "source": [
        "cont=0\n",
        "for prueba in pendientes:\n",
        "  (prueba[\"Titulo\"])\n",
        "  cont+=1\n",
        "print(\"hay\",cont,\"pruebas de idiomas en el documento\")"
      ],
      "metadata": {
        "colab": {
          "base_uri": "https://localhost:8080/"
        },
        "id": "_KSNSUeu2YMn",
        "outputId": "365ef8fb-dbe1-43b7-c5e9-326cf42d6392"
      },
      "execution_count": null,
      "outputs": [
        {
          "output_type": "stream",
          "name": "stdout",
          "text": [
            "hay 7 pruebas de idiomas en el documento\n"
          ]
        }
      ]
    },
    {
      "cell_type": "code",
      "source": [
        "for prueba in pendientes:\n",
        "  (prueba[\"Horas\"])\n",
        "  if (prueba[\"Horas\"])>2:\n",
        "    print((prueba[\"Titulo\"]))"
      ],
      "metadata": {
        "colab": {
          "base_uri": "https://localhost:8080/"
        },
        "id": "79rAta049mYS",
        "outputId": "5dad70a1-310e-48cc-ace7-b9911f17f602"
      },
      "execution_count": null,
      "outputs": [
        {
          "output_type": "stream",
          "name": "stdout",
          "text": [
            "Inglés - Prueba de nivel - para cursos de Inglés para la Docencia y preparatorio de GESE Trinity\n",
            "Inglés - Prueba de nivel - Para cursos segundo cuatrimestre\n"
          ]
        }
      ]
    },
    {
      "cell_type": "code",
      "source": [
        "for prueba in pendientes:\n",
        "  if (prueba[\"TipoFormacion\"])!='Presencial':\n",
        "    print(prueba[\"URL\"])"
      ],
      "metadata": {
        "colab": {
          "base_uri": "https://localhost:8080/"
        },
        "id": "AJXyni5N-2oI",
        "outputId": "339dab06-1ca6-4ae1-a770-a310232c6c07"
      },
      "execution_count": null,
      "outputs": [
        {
          "output_type": "stream",
          "name": "stdout",
          "text": [
            "https://sede.fg.ull.es/es/idioma/detalle/A15050163/aleman-prueba-de-nivel-para-cursos-segundo-cuatrimestre\n",
            "https://sede.fg.ull.es/es/idioma/detalle/A15050167/espa-ol-prueba-de-nivel-para-cursos-segundo-cuatrimestre\n"
          ]
        }
      ]
    },
    {
      "cell_type": "code",
      "source": [
        "for prueba in pendientes:\n",
        "   print(prueba[\"ID\"],\n",
        "         prueba[\"Titulo\"],\n",
        "         prueba[\"Profesorado\"])"
      ],
      "metadata": {
        "colab": {
          "base_uri": "https://localhost:8080/"
        },
        "id": "l-nLTdTZ_1WB",
        "outputId": "a7fdc8fa-c903-4153-a307-f363f9c79eb9"
      },
      "execution_count": null,
      "outputs": [
        {
          "output_type": "stream",
          "name": "stdout",
          "text": [
            "A15050163 Alemán - Prueba de nivel - Para cursos segundo cuatrimestre [{'$id': '2', 'NombreCompleto': 'Reinhard Dlugay'}]\n",
            "A15050167 Español - Prueba de nivel - Para cursos segundo cuatrimestre [{'$id': '4', 'NombreCompleto': 'Beatriz Hernández Bravo'}]\n",
            "A15050162 Francés - Prueba de nivel - Para cursos segundo cuatrimestre [{'$id': '6', 'NombreCompleto': 'Marie-Morgane Le Folgoc'}]\n",
            "A15050182 Inglés - Prueba de nivel - para cursos de Inglés para la Docencia y preparatorio de GESE Trinity [{'$id': '8', 'NombreCompleto': 'María Luisa Capón Mouriz'}]\n",
            "A15050007 Inglés - Prueba de nivel - Para cursos segundo cuatrimestre [{'$id': '10', 'NombreCompleto': 'María Luisa Capón Mouriz'}, {'$id': '11', 'NombreCompleto': 'Richard James Murison'}, {'$id': '12', 'NombreCompleto': 'María Isabel Rodríguez Rodríguez'}, {'$id': '13', 'NombreCompleto': 'Beatriz Freire Betancor'}, {'$id': '14', 'NombreCompleto': 'Peggy Gerd Henriksson Carlsson'}, {'$id': '15', 'NombreCompleto': 'Eva Miriam Amaral Ribeiro Sampaio de Andrade'}, {'$id': '16', 'NombreCompleto': 'Marta María González Orta'}]\n",
            "A15050166 Inglés - Prueba de nivel - Para preparatorios del FCE/CAE/CPE/IELTS [{'$id': '18', 'NombreCompleto': 'Clive Tyrell'}]\n",
            "A15050164 Italiano - Prueba de nivel - Para cursos segundo cuatrimestre [{'$id': '20', 'NombreCompleto': 'Nicola Cataldo'}]\n"
          ]
        }
      ]
    },
    {
      "cell_type": "code",
      "source": [
        "for prueba in pendientes:\n",
        "  a= (prueba[\"Titulo\"],\n",
        "         prueba[\"Profesorado\"])\n",
        "  print(a)"
      ],
      "metadata": {
        "colab": {
          "base_uri": "https://localhost:8080/"
        },
        "id": "R1DLTrYzBlyY",
        "outputId": "48063482-8f05-4058-db14-32ba9acbe513"
      },
      "execution_count": null,
      "outputs": [
        {
          "output_type": "stream",
          "name": "stdout",
          "text": [
            "('Alemán - Prueba de nivel - Para cursos segundo cuatrimestre', [{'$id': '2', 'NombreCompleto': 'Reinhard Dlugay'}])\n",
            "('Español - Prueba de nivel - Para cursos segundo cuatrimestre', [{'$id': '4', 'NombreCompleto': 'Beatriz Hernández Bravo'}])\n",
            "('Francés - Prueba de nivel - Para cursos segundo cuatrimestre', [{'$id': '6', 'NombreCompleto': 'Marie-Morgane Le Folgoc'}])\n",
            "('Inglés - Prueba de nivel - para cursos de Inglés para la Docencia y preparatorio de GESE Trinity', [{'$id': '8', 'NombreCompleto': 'María Luisa Capón Mouriz'}])\n",
            "('Inglés - Prueba de nivel - Para cursos segundo cuatrimestre', [{'$id': '10', 'NombreCompleto': 'María Luisa Capón Mouriz'}, {'$id': '11', 'NombreCompleto': 'Richard James Murison'}, {'$id': '12', 'NombreCompleto': 'María Isabel Rodríguez Rodríguez'}, {'$id': '13', 'NombreCompleto': 'Beatriz Freire Betancor'}, {'$id': '14', 'NombreCompleto': 'Peggy Gerd Henriksson Carlsson'}, {'$id': '15', 'NombreCompleto': 'Eva Miriam Amaral Ribeiro Sampaio de Andrade'}, {'$id': '16', 'NombreCompleto': 'Marta María González Orta'}])\n",
            "('Inglés - Prueba de nivel - Para preparatorios del FCE/CAE/CPE/IELTS', [{'$id': '18', 'NombreCompleto': 'Clive Tyrell'}])\n",
            "('Italiano - Prueba de nivel - Para cursos segundo cuatrimestre', [{'$id': '20', 'NombreCompleto': 'Nicola Cataldo'}])\n"
          ]
        }
      ]
    },
    {
      "cell_type": "code",
      "source": [
        "import json\n",
        "b=json.dumps(a)\n",
        "print(b)"
      ],
      "metadata": {
        "colab": {
          "base_uri": "https://localhost:8080/"
        },
        "id": "gZLNiCrgBi66",
        "outputId": "0654e76b-e964-457c-87cf-4949f40b5a26"
      },
      "execution_count": null,
      "outputs": [
        {
          "output_type": "stream",
          "name": "stdout",
          "text": [
            "[\"Italiano - Prueba de nivel - Para cursos segundo cuatrimestre\", [{\"$id\": \"20\", \"NombreCompleto\": \"Nicola Cataldo\"}]]\n"
          ]
        }
      ]
    }
  ]
}