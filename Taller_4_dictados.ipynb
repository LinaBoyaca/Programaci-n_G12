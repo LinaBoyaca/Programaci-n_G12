{
  "nbformat": 4,
  "nbformat_minor": 0,
  "metadata": {
    "colab": {
      "provenance": [],
      "collapsed_sections": [],
      "include_colab_link": true
    },
    "kernelspec": {
      "name": "python3",
      "display_name": "Python 3"
    },
    "language_info": {
      "name": "python"
    }
  },
  "cells": [
    {
      "cell_type": "markdown",
      "metadata": {
        "id": "view-in-github",
        "colab_type": "text"
      },
      "source": [
        "<a href=\"https://colab.research.google.com/github/LinaBoyaca/Programacion_G12/blob/master/Taller_4_dictados.ipynb\" target=\"_parent\"><img src=\"https://colab.research.google.com/assets/colab-badge.svg\" alt=\"Open In Colab\"/></a>"
      ]
    },
    {
      "cell_type": "markdown",
      "source": [
        "TALLER DICTADOS\n",
        "\n",
        "\n",
        "> Integrantes\n",
        "\n",
        "*   Karen Buitrago\n",
        "*   Lina Boyacá\n",
        "*   Harold Santiago\n",
        "*   Daniel Riaño\n",
        "\n",
        "\n",
        "\n",
        "\n",
        "\n"
      ],
      "metadata": {
        "id": "zQzfSg28q91T"
      }
    },
    {
      "cell_type": "markdown",
      "source": [
        "Escribir un programa que pregunte al usuario su nombre, edad, dirección y teléfono, guarde la información en un diccionario.\n",
        "\n",
        "Después debe mostrar por pantalla el mensaje:\n",
        "\n",
        "tiene años, vive en <dirección> y su número de teléfono es <teléfono>.\n"
      ],
      "metadata": {
        "id": "lvPPWNBUp77j"
      }
    },
    {
      "cell_type": "code",
      "source": [
        "nombre=input(\"Ingrese su nombre:\")\n",
        "edad=int(input(\"ingrese su edad:\"))\n",
        "direccion=input(\"ingrese su direccion:\")\n",
        "telefono=int(input(\"ingrese su teléfono:\"))\n",
        "\n",
        "def persona(**kwargs):\n",
        "  dic={\"nombre\":nombre,\"edad\":edad,\"direccion\":direccion,\"telefono\":telefono}\n",
        "  print(\"su nombre es\" ,nombre,\"tiene\",edad,\"años, vive en\",direccion,\"y su número de teléfono es\",telefono)\n",
        "\n",
        "persona()"
      ],
      "metadata": {
        "colab": {
          "base_uri": "https://localhost:8080/"
        },
        "id": "d9qQILIak8b5",
        "outputId": "fd605c62-ae42-40e8-fd03-ad945ba577f2"
      },
      "execution_count": null,
      "outputs": [
        {
          "output_type": "stream",
          "name": "stdout",
          "text": [
            "Ingrese su nombre:htg\n",
            "ingrese su edad:45\n",
            "ingrese su direccion:tet\n",
            "ingrese su teléfono:54\n",
            "su nombre es htg tiene 45 años, vive en tet y su número de teléfono es 54\n"
          ]
        }
      ]
    },
    {
      "cell_type": "markdown",
      "source": [
        "2.  Escribir un programa que pregunte una fecha actual y fecha de nacimiento ‘dd/mm/aaaa’ y muestre por pantalla la misma fecha en formato “dia/mes/aaaa” y sus días de vida son <####>\n",
        "no tenga en cuenta años bisiestos, \n"
      ],
      "metadata": {
        "id": "MFopijF3qnNf"
      }
    },
    {
      "cell_type": "code",
      "source": [
        "import time\n",
        "\n",
        "time_string1 = time.strftime(\"%d/%m/%Y\")\n",
        "result1 = time.strptime(time_string1, \"%d/%m/%Y\")\n",
        "\n",
        "time_string = input(\"Ingrese su fecha de nacimiento dd/mm/aaaa: \")\n",
        "result = time.strptime(time_string, \"%d/%m/%Y\")\n",
        "\n",
        "print(\"Sus días de vida son: \", ((result1.tm_year-result.tm_year)*365)+((result1.tm_mon-result.tm_mon)*30)+(result1.tm_mday-result.tm_mday))"
      ],
      "metadata": {
        "id": "pPLQi9S3to4D",
        "colab": {
          "base_uri": "https://localhost:8080/"
        },
        "outputId": "f25fa3c1-b314-4b03-d0b7-b64b12a6d638"
      },
      "execution_count": null,
      "outputs": [
        {
          "output_type": "stream",
          "name": "stdout",
          "text": [
            "Ingrese su fecha de nacimiento dd/mm/aaaa: 13/05/2005\n",
            "Sus días de vida son:  6381\n"
          ]
        }
      ]
    },
    {
      "cell_type": "markdown",
      "source": [
        "3. Escribir un programa que administre un dictado de dictados, {1:{},2:{},,,,,,,#:{}}.\n",
        "Debe preguntar a cada usuario(cantidad indefinida), tres datos (los que definan), y a partir de estos, crear un dictado por usuario.\n",
        "El dictado de cada usuario, será de esta manera:\n",
        "La clave será un entero respectivo al orden en que el usuario ingresa los datos.\n",
        "El valor será un dictado con los tres datos del usuario elegidos.\n",
        "{‘dato1’:857,‘dato2’:True,‘dato3’:’dffd’}\n",
        "Ejemplo dictado general:\n",
        "{0:{‘dato1’:857,‘dato2’:True,‘dato3’:’dffd’},1:{‘dato1’:857,‘dato2’:True,‘dato3’:’dffd’}}\n",
        "Al final el programa imprimirá el primer(mínimo) usuario y el último(máximo) usuario con sus respectivos datos.\n"
      ],
      "metadata": {
        "id": "SyQ6X9LGtpOR"
      }
    },
    {
      "cell_type": "code",
      "source": [
        "dict1={}\n",
        "cont=1\n",
        "datos=True\n",
        "while datos == True:\n",
        "  a=input(\"Ingrese su serie favorita   \")\n",
        "  b=input(\"Ingrese su año favorito   \")\n",
        "  c=input(\"Ingrese su comida favorita  \")\n",
        "  dicta={\"Dato1\":a, \"Dato2\":b, \"Dato3\": c}\n",
        "  dict1[n]=dicta\n",
        "  cont+=1\n",
        "  r=input(\"Desea continuar  1.Si 2.No\")\n",
        "  if r==\"2\":\n",
        "   break\n",
        "print(dict1)\n"
      ],
      "metadata": {
        "id": "0JwVJ8UAttG1",
        "colab": {
          "base_uri": "https://localhost:8080/"
        },
        "outputId": "8c4e071f-30a6-4b0c-e8a2-927df5bd9023"
      },
      "execution_count": null,
      "outputs": [
        {
          "output_type": "stream",
          "name": "stdout",
          "text": [
            "Ingrese su serie favorita   Anne \n",
            "Ingrese su año favorito   2018\n",
            "Ingrese su comida favorita  Hamburquesa\n",
            "Desea continuar  1.Si 2.No2\n",
            "{2: {'Dato1': 'Anne ', 'Dato2': '2018', 'Dato3': 'Hamburquesa'}}\n"
          ]
        }
      ]
    }
  ]
}