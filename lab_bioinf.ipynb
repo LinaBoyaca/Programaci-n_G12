{
  "nbformat": 4,
  "nbformat_minor": 0,
  "metadata": {
    "colab": {
      "provenance": [],
      "collapsed_sections": [],
      "include_colab_link": true
    },
    "kernelspec": {
      "name": "python3",
      "display_name": "Python 3"
    },
    "language_info": {
      "name": "python"
    }
  },
  "cells": [
    {
      "cell_type": "markdown",
      "metadata": {
        "id": "view-in-github",
        "colab_type": "text"
      },
      "source": [
        "<a href=\"https://colab.research.google.com/github/LinaBoyaca/Programacion_G12/blob/master/lab_bioinf.ipynb\" target=\"_parent\"><img src=\"https://colab.research.google.com/assets/colab-badge.svg\" alt=\"Open In Colab\"/></a>"
      ]
    },
    {
      "cell_type": "markdown",
      "source": [
        "\n",
        "Secueencia del Genoma Viral de referencia Sars-Cov 2\n",
        "https://www.ncbi.nlm.nih.gov/nuccore/1798174254"
      ],
      "metadata": {
        "id": "ZjoeYDCsz15k"
      }
    },
    {
      "cell_type": "code",
      "source": [],
      "metadata": {
        "id": "2SN7JPgsc5Rx"
      },
      "execution_count": null,
      "outputs": []
    },
    {
      "cell_type": "code",
      "source": [
        "from google.colab import drive\n",
        "drive.mount('/content/drive')"
      ],
      "metadata": {
        "colab": {
          "base_uri": "https://localhost:8080/"
        },
        "id": "Ly13PRrMc6_0",
        "outputId": "3910f339-8514-4731-d6c6-43b531b76b94"
      },
      "execution_count": null,
      "outputs": [
        {
          "output_type": "stream",
          "name": "stdout",
          "text": [
            "Drive already mounted at /content/drive; to attempt to forcibly remount, call drive.mount(\"/content/drive\", force_remount=True).\n"
          ]
        }
      ]
    },
    {
      "cell_type": "code",
      "source": [
        "with open('/content/drive/MyDrive/Copia de sequence_Covid-19.fasta') as f:\n",
        "  lines=f.readlines()\n",
        "print(lines)\n"
      ],
      "metadata": {
        "colab": {
          "base_uri": "https://localhost:8080/",
          "height": 200
        },
        "id": "PUJUBGAFcIiB",
        "outputId": "66a194af-8116-4d87-8f6b-1ee34218f44c"
      },
      "execution_count": null,
      "outputs": [
        {
          "output_type": "error",
          "ename": "FileNotFoundError",
          "evalue": "ignored",
          "traceback": [
            "\u001b[0;31m---------------------------------------------------------------------------\u001b[0m",
            "\u001b[0;31mFileNotFoundError\u001b[0m                         Traceback (most recent call last)",
            "\u001b[0;32m<ipython-input-8-1f8c17fa52a2>\u001b[0m in \u001b[0;36m<module>\u001b[0;34m\u001b[0m\n\u001b[0;32m----> 1\u001b[0;31m \u001b[0;32mwith\u001b[0m \u001b[0mopen\u001b[0m\u001b[0;34m(\u001b[0m\u001b[0;34m'/content/drive/MyDrive/Copia de sequence_Covid-19.fasta'\u001b[0m\u001b[0;34m)\u001b[0m \u001b[0;32mas\u001b[0m \u001b[0mf\u001b[0m\u001b[0;34m:\u001b[0m\u001b[0;34m\u001b[0m\u001b[0;34m\u001b[0m\u001b[0m\n\u001b[0m\u001b[1;32m      2\u001b[0m   \u001b[0mlines\u001b[0m\u001b[0;34m=\u001b[0m\u001b[0mf\u001b[0m\u001b[0;34m.\u001b[0m\u001b[0mreadlines\u001b[0m\u001b[0;34m(\u001b[0m\u001b[0;34m)\u001b[0m\u001b[0;34m\u001b[0m\u001b[0;34m\u001b[0m\u001b[0m\n\u001b[1;32m      3\u001b[0m \u001b[0mprint\u001b[0m\u001b[0;34m(\u001b[0m\u001b[0mlines\u001b[0m\u001b[0;34m)\u001b[0m\u001b[0;34m\u001b[0m\u001b[0;34m\u001b[0m\u001b[0m\n",
            "\u001b[0;31mFileNotFoundError\u001b[0m: [Errno 2] No such file or directory: '/content/drive/MyDrive/Copia de sequence_Covid-19.fasta'"
          ]
        }
      ]
    },
    {
      "cell_type": "markdown",
      "source": [
        "Usar dirección '/**/ejemplo/' del genoma, pues la dirección actual es el ejmplo local."
      ],
      "metadata": {
        "id": "vNdJC3860RVU"
      }
    },
    {
      "cell_type": "code",
      "source": [
        "secuence=''\n",
        "for l in lines[1:]:#slice, para comenzar desde el segundo elemento\n",
        "  secuence+=l[:-1]\n",
        "print(secuence)"
      ],
      "metadata": {
        "colab": {
          "base_uri": "https://localhost:8080/",
          "height": 217
        },
        "id": "abQHh3cr0VRO",
        "outputId": "47a6fba3-f5f4-4af7-ffdd-6870d00b57c3"
      },
      "execution_count": null,
      "outputs": [
        {
          "output_type": "error",
          "ename": "NameError",
          "evalue": "ignored",
          "traceback": [
            "\u001b[0;31m---------------------------------------------------------------------------\u001b[0m",
            "\u001b[0;31mNameError\u001b[0m                                 Traceback (most recent call last)",
            "\u001b[0;32m<ipython-input-3-8860e34a3d55>\u001b[0m in \u001b[0;36m<module>\u001b[0;34m\u001b[0m\n\u001b[1;32m      1\u001b[0m \u001b[0msecuence\u001b[0m\u001b[0;34m=\u001b[0m\u001b[0;34m''\u001b[0m\u001b[0;34m\u001b[0m\u001b[0;34m\u001b[0m\u001b[0m\n\u001b[0;32m----> 2\u001b[0;31m \u001b[0;32mfor\u001b[0m \u001b[0ml\u001b[0m \u001b[0;32min\u001b[0m \u001b[0mlines\u001b[0m\u001b[0;34m[\u001b[0m\u001b[0;36m1\u001b[0m\u001b[0;34m:\u001b[0m\u001b[0;34m]\u001b[0m\u001b[0;34m:\u001b[0m\u001b[0;31m#slice, para comenzar desde el segundo elemento\u001b[0m\u001b[0;34m\u001b[0m\u001b[0;34m\u001b[0m\u001b[0m\n\u001b[0m\u001b[1;32m      3\u001b[0m   \u001b[0msecuence\u001b[0m\u001b[0;34m+=\u001b[0m\u001b[0ml\u001b[0m\u001b[0;34m[\u001b[0m\u001b[0;34m:\u001b[0m\u001b[0;34m-\u001b[0m\u001b[0;36m1\u001b[0m\u001b[0;34m]\u001b[0m\u001b[0;34m\u001b[0m\u001b[0;34m\u001b[0m\u001b[0m\n\u001b[1;32m      4\u001b[0m \u001b[0mprint\u001b[0m\u001b[0;34m(\u001b[0m\u001b[0msecuence\u001b[0m\u001b[0;34m)\u001b[0m\u001b[0;34m\u001b[0m\u001b[0;34m\u001b[0m\u001b[0m\n",
            "\u001b[0;31mNameError\u001b[0m: name 'lines' is not defined"
          ]
        }
      ]
    },
    {
      "cell_type": "markdown",
      "source": [
        "Ejemplo Bioinformático de busqueda por metodo de fuerza bruta"
      ],
      "metadata": {
        "id": "63PTJjhU0Yv9"
      }
    },
    {
      "cell_type": "code",
      "source": [
        "problema='ACAGTAAGTGACAACAGATGTTT'\n",
        "a=secuence.find(problema)\n",
        "print(a)"
      ],
      "metadata": {
        "id": "oOqyE-rL0b6H"
      },
      "execution_count": null,
      "outputs": []
    },
    {
      "cell_type": "markdown",
      "source": [
        "Encuentre la posición inicial y final de el segmento \"problema\" en el \"target\"\n",
        "grupo 7=AAGGCAGATGGGCTATATAAACGTTTTCGCTT"
      ],
      "metadata": {
        "id": "E5OJVKJD0kDb"
      }
    },
    {
      "cell_type": "code",
      "source": [
        "def posicion(lista,item): #se define la función\n",
        "\n",
        "    inicio=0 \n",
        "    final=21 \n",
        "    p=0 \n",
        "\n",
        "    while p<len(lista): \n",
        "        d=lista[inicio:final] \n",
        "        if d==item:  #  d es igual a item \n",
        "            print('La cadena comienza en',p,'y termina en',final-1) \n",
        "            tupla1=(p,) \n",
        "            tupla2=(final-1,) \n",
        "            print(tupla1+tupla2) \n",
        "\n",
        "posicion(secuence,problema) "
      ],
      "metadata": {
        "id": "-YvFMI49Cl1v",
        "colab": {
          "base_uri": "https://localhost:8080/",
          "height": 200
        },
        "outputId": "ba0ee505-0417-401b-c7df-aef699e9be11"
      },
      "execution_count": null,
      "outputs": [
        {
          "output_type": "error",
          "ename": "NameError",
          "evalue": "ignored",
          "traceback": [
            "\u001b[0;31m---------------------------------------------------------------------------\u001b[0m",
            "\u001b[0;31mNameError\u001b[0m                                 Traceback (most recent call last)",
            "\u001b[0;32m<ipython-input-5-971c7deda3af>\u001b[0m in \u001b[0;36m<module>\u001b[0;34m\u001b[0m\n\u001b[1;32m     13\u001b[0m             \u001b[0mprint\u001b[0m\u001b[0;34m(\u001b[0m\u001b[0mtupla1\u001b[0m\u001b[0;34m+\u001b[0m\u001b[0mtupla2\u001b[0m\u001b[0;34m)\u001b[0m\u001b[0;34m\u001b[0m\u001b[0;34m\u001b[0m\u001b[0m\n\u001b[1;32m     14\u001b[0m \u001b[0;34m\u001b[0m\u001b[0m\n\u001b[0;32m---> 15\u001b[0;31m \u001b[0mbusqueda\u001b[0m\u001b[0;34m(\u001b[0m\u001b[0msecuence\u001b[0m\u001b[0;34m,\u001b[0m\u001b[0mproblema\u001b[0m\u001b[0;34m)\u001b[0m \u001b[0;31m# luego de todo se llama a busqueda y se imprimen los resultados\u001b[0m\u001b[0;34m\u001b[0m\u001b[0;34m\u001b[0m\u001b[0m\n\u001b[0m",
            "\u001b[0;31mNameError\u001b[0m: name 'busqueda' is not defined"
          ]
        }
      ]
    }
  ]
}